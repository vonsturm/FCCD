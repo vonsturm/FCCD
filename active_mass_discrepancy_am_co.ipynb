{
 "cells": [
  {
   "cell_type": "code",
   "execution_count": 1,
   "metadata": {},
   "outputs": [],
   "source": [
    "using JSON"
   ]
  },
  {
   "cell_type": "code",
   "execution_count": 2,
   "metadata": {
    "scrolled": false
   },
   "outputs": [
    {
     "data": {
      "text/plain": [
       "Dict{String,Any} with 30 entries:\n",
       "  \"54\" => Dict{String,Any}(Pair{String,Any}(\"name\", \"GD79B\"),Pair{String,Any}(\"…\n",
       "  \"58\" => Dict{String,Any}(Pair{String,Any}(\"name\", \"GD89C\"),Pair{String,Any}(\"…\n",
       "  \"65\" => Dict{String,Any}(Pair{String,Any}(\"name\", \"GD00B\"),Pair{String,Any}(\"…\n",
       "  \"51\" => Dict{String,Any}(Pair{String,Any}(\"name\", \"GD61C\"),Pair{String,Any}(\"…\n",
       "  \"53\" => Dict{String,Any}(Pair{String,Any}(\"name\", \"GD76C\"),Pair{String,Any}(\"…\n",
       "  \"49\" => Dict{String,Any}(Pair{String,Any}(\"name\", \"GD61A\"),Pair{String,Any}(\"…\n",
       "  \"59\" => Dict{String,Any}(Pair{String,Any}(\"name\", \"GD89D\"),Pair{String,Any}(\"…\n",
       "  \"61\" => Dict{String,Any}(Pair{String,Any}(\"name\", \"GD91B\"),Pair{String,Any}(\"…\n",
       "  \"67\" => Dict{String,Any}(Pair{String,Any}(\"name\", \"GD00D\"),Pair{String,Any}(\"…\n",
       "  \"42\" => Dict{String,Any}(Pair{String,Any}(\"name\", \"GD32A\"),Pair{String,Any}(\"…\n",
       "  \"62\" => Dict{String,Any}(Pair{String,Any}(\"name\", \"GD91C\"),Pair{String,Any}(\"…\n",
       "  \"43\" => Dict{String,Any}(Pair{String,Any}(\"name\", \"GD32B\"),Pair{String,Any}(\"…\n",
       "  \"70\" => Dict{String,Any}(Pair{String,Any}(\"name\", \"GD02C\"),Pair{String,Any}(\"…\n",
       "  \"50\" => Dict{String,Any}(Pair{String,Any}(\"name\", \"GD61B\"),Pair{String,Any}(\"…\n",
       "  \"52\" => Dict{String,Any}(Pair{String,Any}(\"name\", \"GD76B\"),Pair{String,Any}(\"…\n",
       "  \"46\" => Dict{String,Any}(Pair{String,Any}(\"name\", \"GD35A\"),Pair{String,Any}(\"…\n",
       "  \"63\" => Dict{String,Any}(Pair{String,Any}(\"name\", \"GD91D\"),Pair{String,Any}(\"…\n",
       "  \"44\" => Dict{String,Any}(Pair{String,Any}(\"name\", \"GD32C\"),Pair{String,Any}(\"…\n",
       "  \"45\" => Dict{String,Any}(Pair{String,Any}(\"name\", \"GD32D\"),Pair{String,Any}(\"…\n",
       "  \"57\" => Dict{String,Any}(Pair{String,Any}(\"name\", \"GD89B\"),Pair{String,Any}(\"…\n",
       "  \"68\" => Dict{String,Any}(Pair{String,Any}(\"name\", \"GD02A\"),Pair{String,Any}(\"…\n",
       "  \"56\" => Dict{String,Any}(Pair{String,Any}(\"name\", \"GD89A\"),Pair{String,Any}(\"…\n",
       "  \"55\" => Dict{String,Any}(Pair{String,Any}(\"name\", \"GD79C\"),Pair{String,Any}(\"…\n",
       "  \"64\" => Dict{String,Any}(Pair{String,Any}(\"name\", \"GD00A\"),Pair{String,Any}(\"…\n",
       "  \"66\" => Dict{String,Any}(Pair{String,Any}(\"name\", \"GD00C\"),Pair{String,Any}(\"…\n",
       "  ⋮    => ⋮"
      ]
     },
     "execution_count": 2,
     "metadata": {},
     "output_type": "execute_result"
    }
   ],
   "source": [
    "detData = JSON.parsefile(\"detCleaned.json\")"
   ]
  },
  {
   "cell_type": "code",
   "execution_count": 3,
   "metadata": {},
   "outputs": [
    {
     "data": {
      "text/plain": [
       "Dict{String,Any} with 40 entries:\n",
       "  \"24\" => Dict{String,Any}(Pair{String,Any}(\"massErr\", 0.001),Pair{String,Any}(…\n",
       "  \"4\"  => Dict{String,Any}(Pair{String,Any}(\"massErr\", 0.001),Pair{String,Any}(…\n",
       "  \"1\"  => Dict{String,Any}(Pair{String,Any}(\"massErr\", 0.001),Pair{String,Any}(…\n",
       "  \"12\" => Dict{String,Any}(Pair{String,Any}(\"massErr\", 0.001),Pair{String,Any}(…\n",
       "  \"29\" => Dict{String,Any}(Pair{String,Any}(\"massErr\", 0.001),Pair{String,Any}(…\n",
       "  \"20\" => Dict{String,Any}(Pair{String,Any}(\"massErr\", 0.001),Pair{String,Any}(…\n",
       "  \"32\" => Dict{String,Any}(Pair{String,Any}(\"massErr\", 0.001),Pair{String,Any}(…\n",
       "  \"2\"  => Dict{String,Any}(Pair{String,Any}(\"massErr\", 0.001),Pair{String,Any}(…\n",
       "  \"6\"  => Dict{String,Any}(Pair{String,Any}(\"massErr\", 0.001),Pair{String,Any}(…\n",
       "  \"25\" => Dict{String,Any}(Pair{String,Any}(\"massErr\", 0.001),Pair{String,Any}(…\n",
       "  \"23\" => Dict{String,Any}(Pair{String,Any}(\"massErr\", 0.001),Pair{String,Any}(…\n",
       "  \"22\" => Dict{String,Any}(Pair{String,Any}(\"massErr\", 0.001),Pair{String,Any}(…\n",
       "  \"11\" => Dict{String,Any}(Pair{String,Any}(\"massErr\", 0.001),Pair{String,Any}(…\n",
       "  \"35\" => Dict{String,Any}(Pair{String,Any}(\"massErr\", 0.001),Pair{String,Any}(…\n",
       "  \"13\" => Dict{String,Any}(Pair{String,Any}(\"massErr\", 0.001),Pair{String,Any}(…\n",
       "  \"5\"  => Dict{String,Any}(Pair{String,Any}(\"massErr\", 0.001),Pair{String,Any}(…\n",
       "  \"15\" => Dict{String,Any}(Pair{String,Any}(\"massErr\", 0.001),Pair{String,Any}(…\n",
       "  \"27\" => Dict{String,Any}(Pair{String,Any}(\"massErr\", 0.001),Pair{String,Any}(…\n",
       "  \"31\" => Dict{String,Any}(Pair{String,Any}(\"massErr\", 0.001),Pair{String,Any}(…\n",
       "  \"33\" => Dict{String,Any}(Pair{String,Any}(\"massErr\", 0.001),Pair{String,Any}(…\n",
       "  \"28\" => Dict{String,Any}(Pair{String,Any}(\"massErr\", 0.001),Pair{String,Any}(…\n",
       "  \"16\" => Dict{String,Any}(Pair{String,Any}(\"massErr\", 0.001),Pair{String,Any}(…\n",
       "  \"14\" => Dict{String,Any}(Pair{String,Any}(\"massErr\", 0.001),Pair{String,Any}(…\n",
       "  \"39\" => Dict{String,Any}(Pair{String,Any}(\"massErr\", 0.001),Pair{String,Any}(…\n",
       "  \"21\" => Dict{String,Any}(Pair{String,Any}(\"massErr\", 0.001),Pair{String,Any}(…\n",
       "  ⋮    => ⋮"
      ]
     },
     "execution_count": 3,
     "metadata": {},
     "output_type": "execute_result"
    }
   ],
   "source": [
    "detMass = JSON.parsefile(\"detectorData_gerda-p2.json\")[\"detData\"]"
   ]
  },
  {
   "cell_type": "code",
   "execution_count": 4,
   "metadata": {},
   "outputs": [
    {
     "data": {
      "text/plain": [
       "get_det_prop (generic function with 1 method)"
      ]
     },
     "execution_count": 4,
     "metadata": {},
     "output_type": "execute_result"
    }
   ],
   "source": [
    "function get_det_prop(name, prop)\n",
    "    for k in keys(detMass)\n",
    "        if detMass[k][\"name\"] == name\n",
    "            return detMass[k][prop]\n",
    "        end\n",
    "    end\n",
    "end"
   ]
  },
  {
   "cell_type": "code",
   "execution_count": 5,
   "metadata": {},
   "outputs": [
    {
     "data": {
      "text/plain": [
       "volume_cylinder (generic function with 1 method)"
      ]
     },
     "execution_count": 5,
     "metadata": {},
     "output_type": "execute_result"
    }
   ],
   "source": [
    "function volume_cylinder(radius, height)\n",
    "    pi*radius*radius*height\n",
    "end"
   ]
  },
  {
   "cell_type": "code",
   "execution_count": 6,
   "metadata": {},
   "outputs": [
    {
     "data": {
      "text/plain": [
       "volume_cone (generic function with 1 method)"
      ]
     },
     "execution_count": 6,
     "metadata": {},
     "output_type": "execute_result"
    }
   ],
   "source": [
    "function volume_cone(radius, height)\n",
    "    1./3. * volume_cylinder(radius, height)\n",
    "end"
   ]
  },
  {
   "cell_type": "code",
   "execution_count": 7,
   "metadata": {},
   "outputs": [
    {
     "data": {
      "text/plain": [
       "volume_cutcone (generic function with 1 method)"
      ]
     },
     "execution_count": 7,
     "metadata": {},
     "output_type": "execute_result"
    }
   ],
   "source": [
    "function volume_cutcone(radius, cradius, cheight)\n",
    "    1./3. * cheight * (radius*radius + radius*cradius + cradius*cradius)\n",
    "end"
   ]
  },
  {
   "cell_type": "code",
   "execution_count": 8,
   "metadata": {},
   "outputs": [
    {
     "data": {
      "text/plain": [
       "volume_BEGe (generic function with 1 method)"
      ]
     },
     "execution_count": 8,
     "metadata": {},
     "output_type": "execute_result"
    }
   ],
   "source": [
    "function volume_BEGe(height, radius, gr_depth, gr_radius, gr_Radius, cheight, cradius)\n",
    "    base   = volume_cylinder(radius, height-cheight)\n",
    "    groove = volume_cylinder(gr_Radius, gr_depth) - volume_cylinder(gr_radius, gr_depth)\n",
    "    cone   = volume_cutcone(radius, cradius, cheight)\n",
    "    base - groove + cone\n",
    "end"
   ]
  },
  {
   "cell_type": "code",
   "execution_count": 9,
   "metadata": {},
   "outputs": [
    {
     "data": {
      "text/plain": [
       "volume_active (generic function with 1 method)"
      ]
     },
     "execution_count": 9,
     "metadata": {},
     "output_type": "execute_result"
    }
   ],
   "source": [
    "function volume_active(height, radius, gr_depth, gr_radius, gr_Radius, cheight, cradius, DL)\n",
    "    volume = volume_BEGe(height, radius, gr_depth, gr_radius, gr_Radius, cheight, cradius)\n",
    "    volume_DL = volume_BEGe(height, radius, 0, 0, 0, cheight, cradius)\n",
    "\n",
    "    nheight  = height - 2*DL         # total height\n",
    "    nradius  = radius - DL           # total radius\n",
    "    \n",
    "    if cheight > 0 && cradius > 0\n",
    "        beta = atan(cheight/(radius-cradius))\n",
    "        x    = DL/cos(beta)                    \n",
    "        x_p  = DL*cheight/(radius-cradius)\n",
    "        x_pp = x-x_p\n",
    "        \n",
    "        ncheight = cheight - DL + x_pp              # corner height (upper)\n",
    "        ncradius = radius - DL - ncheight/tan(beta) # corner radius\n",
    "        \n",
    "        vol1 = volume_cylinder(nradius, nheight-ncheight)\n",
    "        vol2 = volume_cylinder(gr_Radius, DL)\n",
    "        vol3 = volume_cutcone(nradius, ncradius, ncheight)\n",
    "        nvol = vol1 + vol2 + vol3\n",
    "        \n",
    "        #@printf \"%.3f\\n\" vol2/1e3*5.56\n",
    "        \n",
    "        volume_DL -= nvol\n",
    "    else\n",
    "        volume_DL -= volume_cylinder(nradius, nheight) + volume_cylinder(gr_Radius, DL)\n",
    "    end\n",
    "    volume - volume_DL\n",
    "end"
   ]
  },
  {
   "cell_type": "code",
   "execution_count": 12,
   "metadata": {
    "scrolled": true
   },
   "outputs": [
    {
     "name": "stdout",
     "output_type": "stream",
     "text": [
      "name  : DL Am : DL Co : volume : f_Am  : f_Co  : df   : m_am : m_co : dma : dma%\n",
      "***************************************************\n",
      "GD79B : 1.040 : 1.190 : 134.33 : 0.881 : 0.865 : 0.016 :  649 :  636 : 12.1 : 1.9 \n",
      "GD89C : 0.990 : 1.210 : 108.13 : 0.875 : 0.848 : 0.027 :  520 :  505 : 15.8 : 3.0 \n",
      "GD00B : 1.040 : 1.390 : 126.23 : 0.880 : 0.842 : 0.038 :  614 :  587 : 26.6 : 4.3 \n",
      "GD61C : 0.920 : 1.090 : 115.15 : 0.888 : 0.868 : 0.020 :  563 :  550 : 12.6 : 2.2 \n",
      "GD76C : 1.140 : 1.350 : 149.55 : 0.878 : 0.857 : 0.021 :  724 :  706 : 17.6 : 2.4 \n",
      "GD61A : 1.010 : 1.410 :  88.55 : 0.887 : 0.845 : 0.042 :  648 :  618 : 31.0 : 4.8 \n",
      "GD89D : 1.020 : 1.400 :  96.62 : 0.864 : 0.816 : 0.048 :  455 :  429 : 25.1 : 5.5 \n",
      "GD91B : 0.960 : 1.160 : 118.05 : 0.889 : 0.867 : 0.022 :  578 :  563 : 14.4 : 2.5 \n",
      "GD00D : 1.020 : 1.250 : 147.64 : 0.890 : 0.866 : 0.024 :  723 :  704 : 19.3 : 2.7 \n",
      "GD32A : 0.910 : 1.130 :  37.97 : 0.849 : 0.815 : 0.034 :  389 :  373 : 15.8 : 4.1 \n",
      "GD91C : 0.960 : 1.310 : 113.98 : 0.887 : 0.848 : 0.039 :  556 :  532 : 24.4 : 4.4 \n",
      "GD32B : 1.050 : 1.270 : 130.24 : 0.883 : 0.860 : 0.023 :  633 :  616 : 16.7 : 2.6 \n",
      "GD02C : 1.030 : 1.190 : 143.18 : 0.888 : 0.872 : 0.017 :  700 :  687 : 13.1 : 1.9 \n",
      "GD61B : 1.000 : 1.340 : 136.56 : 0.888 : 0.851 : 0.036 :  667 :  639 : 27.3 : 4.1 \n",
      "GD76B : 1.140 : 1.440 :  69.79 : 0.848 : 0.811 : 0.037 :  326 :  311 : 14.3 : 4.4 \n",
      "GD35A : 0.950 : 1.020 :  78.45 : 0.886 : 0.878 : 0.008 :  681 :  674 :  6.2 : 0.9 \n",
      "GD91D : 0.990 : 1.280 : 126.95 : 0.889 : 0.858 : 0.031 :  616 :  595 : 21.5 : 3.5 \n",
      "GD32C : 0.960 : 1.040 : 134.56 : 0.895 : 0.886 : 0.008 :  665 :  658 :  6.3 : 0.9 \n",
      "GD32D : 0.770 : 1.010 : 131.53 : 0.914 : 0.888 : 0.026 :  658 :  639 : 18.6 : 2.8 \n",
      "GD89B : 1.130 : 1.310 : 112.51 : 0.859 : 0.838 : 0.021 :  532 :  519 : 13.2 : 2.5 \n",
      "GD02A : 0.860 : 1.290 :  63.45 : 0.886 : 0.832 : 0.054 :  483 :  453 : 29.4 : 6.1 \n",
      "GD89A : 0.990 : 1.170 :  58.64 : 0.865 : 0.842 : 0.023 :  453 :  441 : 12.2 : 2.7 \n",
      "GD79C : 1.100 : 1.470 : 147.64 : 0.879 : 0.840 : 0.039 :  713 :  682 : 31.5 : 4.4 \n",
      "GD00A : 0.910 : 1.160 :  65.82 : 0.876 : 0.843 : 0.032 :  434 :  418 : 16.1 : 3.7 \n",
      "GD00C : 1.010 : 1.340 : 150.35 : 0.892 : 0.859 : 0.033 :  727 :  700 : 27.3 : 3.8 \n",
      "GD02D : 1.450 : 1.450 :  56.51 : 0.794 : 0.794 : 0.000 :  526 :  526 :  0.0 : 0.0 \n",
      "GD35B : 0.780 : 0.970 : 146.51 : 0.915 : 0.894 : 0.020 :  741 :  725 : 16.3 : 2.2 \n",
      "GD35C : 0.790 : 0.970 : 115.44 : 0.903 : 0.881 : 0.021 :  572 :  559 : 13.5 : 2.4 \n",
      "GD02B : 0.970 : 1.260 : 113.20 : 0.885 : 0.852 : 0.033 :  553 :  532 : 20.5 : 3.7 \n",
      "GD91A : 0.990 : 1.190 :  64.39 : 0.872 : 0.847 : 0.025 :  547 :  531 : 15.5 : 2.8 \n",
      "*************************************\n",
      "active fraction discrepancy 2.8 pc \n",
      "active mass discrepancy 3.1 pc\n",
      "*************************************\n"
     ]
    }
   ],
   "source": [
    "println( \"name  : DL Am : DL Co : volume : f_Am  : f_Co  : df   : m_am : m_co : dma : dma\\%\" )\n",
    "println( \"***************************************************\" )\n",
    "\n",
    "df_tot = 0\n",
    "dm_act_tot = 0\n",
    "mass_tot = 0\n",
    "c = 0\n",
    "\n",
    "for k in keys(detData)\n",
    "    d = detData[k]\n",
    "    name = d[\"name\"]\n",
    "    h = d[\"height-mm\"]\n",
    "    r = d[\"radius-mm\"]\n",
    "    gr_d = d[\"groove\"][\"depth-mm\"]\n",
    "    gr_r = d[\"groove\"][\"inner-radius-mm\"]\n",
    "    gr_R = d[\"groove\"][\"outer-radius-mm\"]\n",
    "    ch = 0\n",
    "    cr_rad = 0\n",
    "    cr = 0\n",
    "    DL_Am = d[\"dead-layer\"][\"top-thickness-nm\"] / 1e6\n",
    "    DL_Co = d[\"dl-co-mm\"]\n",
    "    \n",
    "    mass  = get_det_prop(name, \"mass\")\n",
    "    enr   = get_det_prop(name, \"enrichment\")\n",
    "    amass = get_det_prop(name, \"activemass\")\n",
    "    \n",
    "    if get(d, \"cone\", 0) != 0\n",
    "        ch = h - d[\"cone\"][\"height-mm\"]\n",
    "        cr = d[\"cone\"][\"radius-deg\"]\n",
    "    end\n",
    "    \n",
    "    volume = volume_BEGe(h,r,gr_d,gr_r,gr_R,ch,cr)/1e3\n",
    "    volume_act = volume_active(h,r,gr_d,gr_r,gr_R,ch,cr, DL_Am)/1e3\n",
    "    \n",
    "    f_act = volume_act / volume\n",
    "    m_act = mass * f_act\n",
    "    \n",
    "    volume_act_co = volume_active(h,r,gr_d,gr_r,gr_R,ch,cr, DL_Co)/1e3\n",
    "    f_act_co = volume_act_co / volume\n",
    "    m_act_co = mass * f_act_co\n",
    "    \n",
    "    df = f_act - f_act_co\n",
    "    dm_act = m_act - m_act_co\n",
    "    \n",
    "    if name != \"GD02D\"\n",
    "        df_tot += df\n",
    "        dm_act_tot += dm_act\n",
    "        mass_tot += m_act\n",
    "        c += 1\n",
    "    end\n",
    "    \n",
    "    @printf \"%s : %.3f : %.3f : \" name DL_Am DL_Co\n",
    "    @printf \"%6.2f : %.3f : %.3f : %.3f : \" volume f_act f_act_co df \n",
    "    @printf \"% .0f :  %.0f : %4.1f : %2.1f \\n\" m_act*1000 m_act_co*1000 dm_act*1000 dm_act*100/m_act\n",
    "end\n",
    "println( \"*************************************\" )\n",
    "@printf \"average active fraction difference %.1f pc \\n\" df_tot*100/c\n",
    "@printf \"average active mass difference %.1f pc\\n\" dm_act_tot*100/mass_tot\n",
    "println( \"*************************************\" )"
   ]
  },
  {
   "cell_type": "code",
   "execution_count": null,
   "metadata": {},
   "outputs": [],
   "source": []
  }
 ],
 "metadata": {
  "kernelspec": {
   "display_name": "Julia 0.6.3",
   "language": "julia",
   "name": "julia-0.6"
  },
  "language_info": {
   "file_extension": ".jl",
   "mimetype": "application/julia",
   "name": "julia",
   "version": "0.6.3"
  }
 },
 "nbformat": 4,
 "nbformat_minor": 2
}
